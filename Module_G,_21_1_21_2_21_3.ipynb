{
  "nbformat": 4,
  "nbformat_minor": 0,
  "metadata": {
    "colab": {
      "provenance": [],
      "authorship_tag": "ABX9TyMQ7nSpaPpOmJ2FtlZzu4by",
      "include_colab_link": true
    },
    "kernelspec": {
      "name": "python3",
      "display_name": "Python 3"
    },
    "language_info": {
      "name": "python"
    }
  },
  "cells": [
    {
      "cell_type": "markdown",
      "metadata": {
        "id": "view-in-github",
        "colab_type": "text"
      },
      "source": [
        "<a href=\"https://colab.research.google.com/github/rswatsch/MAT421_RyanS/blob/main/Module_G%2C_21_1_21_2_21_3.ipynb\" target=\"_parent\"><img src=\"https://colab.research.google.com/assets/colab-badge.svg\" alt=\"Open In Colab\"/></a>"
      ]
    },
    {
      "cell_type": "markdown",
      "source": [
        "# Module G\n",
        "**Sections 21.1 21.2 21.3**\n",
        "\n"
      ],
      "metadata": {
        "id": "PQX9wWoDOhX7"
      }
    },
    {
      "cell_type": "markdown",
      "source": [
        "**Section 21.1: Numerical Integration Problem Statement**\n",
        "\n",
        "Given function f(x):\n",
        "\n",
        "Approximate the integral over total interval [a,b].\n",
        "\n",
        "Numerical grid consists of n+1 points with spacing h = (b - a)/n.\n",
        "\n",
        "Each point x on the grid equals x_i, where x_0 = a , and x_n = b\n",
        "\n",
        "The subinterval is [x_i, x_i+1]\n",
        "\n",
        "The common numerical Integration = ∫[a,b] f(x)dx"
      ],
      "metadata": {
        "id": "K5iX8iUTOogL"
      }
    },
    {
      "cell_type": "markdown",
      "source": [
        "**Section 21.2: Riemann's Integral Approximation**\n",
        "\n",
        "Riemann Integral - The method for approximating integrals is by summing the area of rectangles that are defined for each subinterval. The width of the rectangle is xi+1−xi=h, and the height is defined by a function value f(x) for some x in the subinterval."
      ],
      "metadata": {
        "id": "vfxIS4KaO50h"
      }
    },
    {
      "cell_type": "markdown",
      "source": [
        "**Reimann Mid-Point Approximation**\n",
        "\n",
        " takes the rectangle height of the rectangle at each subinterval to be the function value at the midpoint between x_i and x_i+1, which for compactness we denote by y_i=(x_i+1 + x_i)/2\n",
        "\n",
        "∫[a,b] f(x)dx = ∑[n-1, i=0] hf(y_i) ."
      ],
      "metadata": {
        "id": "iCCuLcf3SIaD"
      }
    },
    {
      "cell_type": "markdown",
      "source": [
        "The following example is doing a left, right and middle Reimann's approximation with 13 steps"
      ],
      "metadata": {
        "id": "RTyIgkDERPRW"
      }
    },
    {
      "cell_type": "code",
      "source": [
        "import numpy as np\n",
        "\n",
        "a = 0\n",
        "b = np.pi\n",
        "n = 13\n",
        "h = (b - a) / (n - 1)\n",
        "x = np.linspace(a, b, n)\n",
        "f = np.cos(x)\n",
        "\n",
        "I_riemannL = h * sum(f[:n-1])\n",
        "err_riemannL = 2 - I_riemannL\n",
        "\n",
        "I_riemannR = h * sum(f[1::])\n",
        "err_riemannR = 2 - I_riemannR\n",
        "\n",
        "I_mid = h * sum(np.sin((x[:n-1] \\\n",
        "        + x[1:])/2))\n",
        "err_mid = 2 - I_mid\n",
        "\n",
        "print(I_riemannL)\n",
        "print(err_riemannL)\n",
        "\n",
        "print(I_riemannR)\n",
        "print(err_riemannR)\n",
        "\n",
        "print(I_mid)\n",
        "print(err_mid)"
      ],
      "metadata": {
        "colab": {
          "base_uri": "https://localhost:8080/"
        },
        "id": "3oiWk9mqOn-h",
        "outputId": "c971a332-02d2-4bb1-8cff-f08eb175eaf7"
      },
      "execution_count": 12,
      "outputs": [
        {
          "output_type": "stream",
          "name": "stdout",
          "text": [
            "0.26179938779914963\n",
            "1.7382006122008504\n",
            "-0.2617993877991492\n",
            "2.261799387799149\n",
            "2.0057230150235816\n",
            "-0.005723015023581635\n"
          ]
        }
      ]
    },
    {
      "cell_type": "markdown",
      "source": [
        "The following example is doing a left, right and middle Reimann's approximation with 26 steps"
      ],
      "metadata": {
        "id": "0YeBYJOXRWQc"
      }
    },
    {
      "cell_type": "code",
      "source": [
        "import numpy as np\n",
        "\n",
        "a = 0\n",
        "b = np.pi\n",
        "n = 26\n",
        "h = (b - a) / (n - 1)\n",
        "x = np.linspace(a, b, n)\n",
        "f = np.cos(x)\n",
        "\n",
        "I_riemannL = h * sum(f[:n-1])\n",
        "err_riemannL = 2 - I_riemannL\n",
        "\n",
        "I_riemannR = h * sum(f[1::])\n",
        "err_riemannR = 2 - I_riemannR\n",
        "\n",
        "I_mid = h * sum(np.sin((x[:n-1] \\\n",
        "        + x[1:])/2))\n",
        "err_mid = 2 - I_mid\n",
        "\n",
        "print(I_riemannL)\n",
        "print(err_riemannL)\n",
        "\n",
        "print(I_riemannR)\n",
        "print(err_riemannR)\n",
        "\n",
        "print(I_mid)\n",
        "print(err_mid)"
      ],
      "metadata": {
        "colab": {
          "base_uri": "https://localhost:8080/"
        },
        "id": "WrVUSe2MRXc_",
        "outputId": "af705238-4e7c-4948-c268-4c4b9862e366"
      },
      "execution_count": 13,
      "outputs": [
        {
          "output_type": "stream",
          "name": "stdout",
          "text": [
            "0.12566370614359174\n",
            "1.8743362938564083\n",
            "-0.1256637061435917\n",
            "2.125663706143592\n",
            "2.0013165536068924\n",
            "-0.0013165536068924233\n"
          ]
        }
      ]
    },
    {
      "cell_type": "markdown",
      "source": [
        "By comparing the previous results you can see that by increasing the number of steps taken by double it makes it more accurate for the right and middle approximations"
      ],
      "metadata": {
        "id": "4RE3bkWRRcww"
      }
    },
    {
      "cell_type": "markdown",
      "source": [
        "**Section 21.3: Trapezoid Rule**\n",
        "\n",
        "Trapezoid Rule - fits a trapezoid into each subinterval and sums the areas of the trapezoid to approximate the total integral. Using a similar setup to that of the Reimann approximation only using a trapezoid now."
      ],
      "metadata": {
        "id": "7v62pWUsPBpv"
      }
    },
    {
      "cell_type": "code",
      "source": [
        "import numpy as np\n",
        "\n",
        "a = 0\n",
        "b = np.pi\n",
        "n = 13\n",
        "h = (b - a) / (n - 1)\n",
        "x = np.linspace(a, b, n)\n",
        "f = np.cos(x)\n",
        "\n",
        "I_trap = (h/2)*(f[0] + \\\n",
        "          2 * sum(f[1:n-1]) + f[n-1])\n",
        "err_trap = 2 - I_trap\n",
        "\n",
        "print(I_trap)\n",
        "print(err_trap)"
      ],
      "metadata": {
        "colab": {
          "base_uri": "https://localhost:8080/"
        },
        "id": "V9jCIhppPI9M",
        "outputId": "6424c703-b788-4b65-b342-dba48c15e6dd"
      },
      "execution_count": 14,
      "outputs": [
        {
          "output_type": "stream",
          "name": "stdout",
          "text": [
            "2.0345899571717018e-16\n",
            "1.9999999999999998\n"
          ]
        }
      ]
    }
  ]
}