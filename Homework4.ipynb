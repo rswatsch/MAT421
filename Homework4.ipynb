{
  "nbformat": 4,
  "nbformat_minor": 0,
  "metadata": {
    "colab": {
      "provenance": [],
      "authorship_tag": "ABX9TyP1XmlLyrcwMBKyLaPiLQ5z",
      "include_colab_link": true
    },
    "kernelspec": {
      "name": "python3",
      "display_name": "Python 3"
    },
    "language_info": {
      "name": "python"
    }
  },
  "cells": [
    {
      "cell_type": "markdown",
      "metadata": {
        "id": "view-in-github",
        "colab_type": "text"
      },
      "source": [
        "<a href=\"https://colab.research.google.com/github/rswatsch/MAT421_RyanS/blob/main/Homework4.ipynb\" target=\"_parent\"><img src=\"https://colab.research.google.com/assets/colab-badge.svg\" alt=\"Open In Colab\"/></a>"
      ]
    },
    {
      "cell_type": "markdown",
      "source": [
        "# MAT 421 Homework #4\n",
        "**1.1 Introduction to Linear Equations**"
      ],
      "metadata": {
        "id": "NC7dRmH1PvX-"
      }
    },
    {
      "cell_type": "markdown",
      "source": [
        "***What is Linear Algebra?***\n",
        "\n",
        "Linear algebra is a branch of mathematics that focuses entirely on the study of linear equations in different dimensions. One example would be three dimensional Euclidean space.\n",
        "\n",
        "Additionally, Linear algrebra is used in many careers and fields till this day such as data science and machine learning."
      ],
      "metadata": {
        "id": "Gyp6ADSaU236"
      }
    },
    {
      "cell_type": "markdown",
      "source": [
        "***Important things to know, definitions and Variables.***\n",
        "\n",
        "Sets - A set is a collection of objects {}\n",
        "\n",
        "Union - A U B - A set including all elements of A and B\n",
        "\n",
        "Intersect - A n B - A set including all elements that belong to A & B\n",
        "\n",
        "Naturals - N = {1,2,3,4,..}\n",
        "\n",
        "Wholes - W = N U {0}\n",
        "\n",
        "Integers - Z = W U {-1,-2,-3,...}\n",
        "\n",
        "Rationals - Q = { p/g : p ∊ Z , q ∊ Z \\ {0}}\n",
        "\n",
        "Irrationals - I = A set of real numbers that are not expressible as fractions of integers\n",
        "\n",
        "Reals - R = Q U I\n",
        "\n",
        "Complex Numbers - C = {a + bi: a, b ∊ R, i = sqrt(-1) }"
      ],
      "metadata": {
        "id": "Ans5H_QjVezT"
      }
    },
    {
      "cell_type": "markdown",
      "source": [
        "***What is a vector?***\n",
        "\n",
        "In simple terms it is a a combination of both a magnitude and a direction.\n",
        "\n",
        "Below is an example of how to create a vector using python."
      ],
      "metadata": {
        "id": "vQJ5UElmVw8X"
      }
    },
    {
      "cell_type": "code",
      "source": [
        "import numpy as np\n",
        "vector_row = np.array([[2, -15, 8, 6, 1]])\n",
        "vector_column = np.array([[1],[2],[3],[4]])\n",
        "\n",
        "print(vector_row.shape)\n",
        "print(vector_column.shape)\n"
      ],
      "metadata": {
        "colab": {
          "base_uri": "https://localhost:8080/"
        },
        "id": "xA1GS0tfQIq0",
        "outputId": "49a66916-4c67-4466-fdd6-211b0338b70e"
      },
      "execution_count": 13,
      "outputs": [
        {
          "output_type": "stream",
          "name": "stdout",
          "text": [
            "(1, 5)\n",
            "(4, 1)\n"
          ]
        }
      ]
    },
    {
      "cell_type": "markdown",
      "source": [
        "Above is the layout of each row and column and below is how it would look in vector form."
      ],
      "metadata": {
        "id": "gvDrn3A7YQnE"
      }
    },
    {
      "cell_type": "code",
      "source": [
        "print(vector_row)\n",
        "print(vector_column)"
      ],
      "metadata": {
        "colab": {
          "base_uri": "https://localhost:8080/"
        },
        "id": "RhaSfFyEYOnV",
        "outputId": "8090dc00-c418-4946-df33-7a89064da54f"
      },
      "execution_count": 14,
      "outputs": [
        {
          "output_type": "stream",
          "name": "stdout",
          "text": [
            "[[  2 -15   8   6   1]]\n",
            "[[1]\n",
            " [2]\n",
            " [3]\n",
            " [4]]\n"
          ]
        }
      ]
    },
    {
      "cell_type": "markdown",
      "source": [
        "There is a way to represent a more than 1,2 dimensional system and that is typically done using Matrix's.\n",
        "\n",
        "Below is an example of how to design a matrix in python, and acquire it's determinant and other features like an identity matrix."
      ],
      "metadata": {
        "id": "ROMVMXlEW25H"
      }
    },
    {
      "cell_type": "code",
      "source": [
        "from numpy.linalg import det\n",
        "\n",
        "M = np.array([[1,2,6,-1],\n",
        "              [1,8,4,4],\n",
        "              [8,0,4,8],\n",
        "              [2,4,6,10]])\n",
        "print('M:\\n', M)\n",
        "\n",
        "print('Determinant: %.1f'%det(M))\n",
        "I = np.eye(4)\n",
        "print('I:\\n', I)\n",
        "print('M*I:\\n', np.dot(M, I))"
      ],
      "metadata": {
        "colab": {
          "base_uri": "https://localhost:8080/"
        },
        "id": "P9Ji96ffXEPY",
        "outputId": "a8668dff-50d1-43a9-c1dc-ee4fddbd7751"
      },
      "execution_count": 4,
      "outputs": [
        {
          "output_type": "stream",
          "name": "stdout",
          "text": [
            "M:\n",
            " [[ 1  2  6 -1]\n",
            " [ 1  8  4  4]\n",
            " [ 8  0  4  8]\n",
            " [ 2  4  6 10]]\n",
            "Determinant: -2496.0\n",
            "I:\n",
            " [[1. 0. 0. 0.]\n",
            " [0. 1. 0. 0.]\n",
            " [0. 0. 1. 0.]\n",
            " [0. 0. 0. 1.]]\n",
            "M*I:\n",
            " [[ 1.  2.  6. -1.]\n",
            " [ 1.  8.  4.  4.]\n",
            " [ 8.  0.  4.  8.]\n",
            " [ 2.  4.  6. 10.]]\n"
          ]
        }
      ]
    },
    {
      "cell_type": "markdown",
      "source": [
        "Matrixes are extremely useful for solving complex linear systems and also for other mathematical systems such as differential equations."
      ],
      "metadata": {
        "id": "Q1Bw1b-PYgyI"
      }
    },
    {
      "cell_type": "markdown",
      "source": [
        "**1.2 Elements of Linear Equations**\n",
        "\n",
        "There are a multitude of methods of combining and creating new vectors and matrixes from given data below will demonstrate some of those methods.\n",
        "\n",
        "\n",
        "\n",
        "Using Python to solve a cross-product question."
      ],
      "metadata": {
        "id": "qtGu3V7BQJSy"
      }
    },
    {
      "cell_type": "code",
      "source": [
        "import numpy as np\n",
        "x = np.array([[5, 1, -4]])\n",
        "z = np.array([[-1, 10, 3]])\n",
        "print(np.cross(x, z))"
      ],
      "metadata": {
        "colab": {
          "base_uri": "https://localhost:8080/"
        },
        "id": "dsZT-4hlQW5D",
        "outputId": "0258b186-b5a8-45ba-f9bf-871f42fcb338"
      },
      "execution_count": 16,
      "outputs": [
        {
          "output_type": "stream",
          "name": "stdout",
          "text": [
            "[[ 43 -11  51]]\n"
          ]
        }
      ]
    },
    {
      "cell_type": "markdown",
      "source": [
        "**Orthonomal Bases**\n",
        "\n",
        "Below is a demonstration of how to compute eigenvalues and eigenvectors using python."
      ],
      "metadata": {
        "id": "4hoDQq6HbwJO"
      }
    },
    {
      "cell_type": "code",
      "source": [
        "import numpy as np\n",
        "from numpy.linalg import eig\n",
        "\n",
        "h = np.array([[3, -2, 8],\n",
        "        [-1, 7, 3],\n",
        "        [5, 9, 1]])\n",
        "w,v=eig(h)\n",
        "print('E-value:', w)\n",
        "print('E-vector', v)"
      ],
      "metadata": {
        "colab": {
          "base_uri": "https://localhost:8080/"
        },
        "id": "yMBtPeX2bwqt",
        "outputId": "0605fa32-d139-4135-e705-84f16ed607e6"
      },
      "execution_count": 19,
      "outputs": [
        {
          "output_type": "stream",
          "name": "stdout",
          "text": [
            "E-value: [-6.2852346   6.62939123 10.65584337]\n",
            "E-vector [[ 0.66370166  0.89693545  0.61263883]\n",
            " [ 0.21194418 -0.28896184  0.39445046]\n",
            " [-0.71734216  0.33467575  0.68489598]]\n"
          ]
        }
      ]
    },
    {
      "cell_type": "markdown",
      "source": [
        "**1.3 Linear Regression**\n",
        "\n",
        "Something all of us have heard of and used in STEM and any data based courses. The reason linear regression models are simpler to fit and use are because unknown parameters are essentially converted into only one unknown. The only thing that must be certain and accurate are the assumption that one makes prior to preforming a linear regression.\n",
        "\n",
        "Below will be an example of a QR decomposition"
      ],
      "metadata": {
        "id": "tkTkS2LWQONX"
      }
    },
    {
      "cell_type": "code",
      "source": [
        "import numpy as np\n",
        "from numpy.linalg import qr\n",
        "x = np.array([[1, 9], [2, 5]])\n",
        "\n",
        "Q,R = qr(x)\n",
        "print('Q:', Q)\n",
        "print('R:', R)\n",
        "\n",
        "z = np.dot(Q, R)\n",
        "print('QR:', z)"
      ],
      "metadata": {
        "colab": {
          "base_uri": "https://localhost:8080/"
        },
        "id": "Eg9cViYpQXjn",
        "outputId": "64cf052a-bcb0-4e9f-805f-0238c5b156b7"
      },
      "execution_count": 18,
      "outputs": [
        {
          "output_type": "stream",
          "name": "stdout",
          "text": [
            "Q: [[-0.4472136  -0.89442719]\n",
            " [-0.89442719  0.4472136 ]]\n",
            "R: [[-2.23606798 -8.49705831]\n",
            " [ 0.         -5.81377674]]\n",
            "QR: [[1. 9.]\n",
            " [2. 5.]]\n"
          ]
        }
      ]
    },
    {
      "cell_type": "markdown",
      "source": [
        "QR decomposition is an iterative method to find all the eigenvalues of a matrix. It can also find the eigenvectors, but cannot do this simultaneously."
      ],
      "metadata": {
        "id": "vGDsRFDwfbua"
      }
    }
  ]
}