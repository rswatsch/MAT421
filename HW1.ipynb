{
  "nbformat": 4,
  "nbformat_minor": 0,
  "metadata": {
    "colab": {
      "provenance": []
    },
    "kernelspec": {
      "name": "python3",
      "display_name": "Python 3"
    },
    "language_info": {
      "name": "python"
    }
  },
  "cells": [
    {
      "cell_type": "markdown",
      "source": [
        "# Homework 1: Demonstrate Binary, BaseN, Floating Point Number and Round-Off Error\n"
      ],
      "metadata": {
        "id": "Vhr4_lDFEYMP"
      }
    },
    {
      "cell_type": "markdown",
      "source": [
        "# Demonstrating Based-N\n",
        "\n",
        "Base(10) also known as the Decimal System is our conventional way of representing numbers ranging from digits 0-9.\n",
        "\n"
      ],
      "metadata": {
        "id": "vaO7zfPJSnMw"
      }
    },
    {
      "cell_type": "code",
      "source": [
        "print('#147.3(Base10) ==', 147.3 == 1*(10**2) + 4*(10**1) + 7*(10**0) + 3*(10**-1))\n"
      ],
      "metadata": {
        "colab": {
          "base_uri": "https://localhost:8080/"
        },
        "id": "rbO_Y8GYSdJg",
        "outputId": "d642087b-cac7-4965-ace1-47431bf3f684"
      },
      "execution_count": null,
      "outputs": [
        {
          "output_type": "stream",
          "name": "stdout",
          "text": [
            "#147.3(Base10) == True\n"
          ]
        }
      ]
    },
    {
      "cell_type": "code",
      "source": [
        "print('121(Base3) = 16(Base10) ==' ,1*(3**2) + 2*(3**1) + 1*(3**0) == 1*(10**1) + 6*(10**0))"
      ],
      "metadata": {
        "colab": {
          "base_uri": "https://localhost:8080/"
        },
        "id": "yiuQfhx4TwsX",
        "outputId": "e4235b21-6b12-49e0-af84-e0fdd1e43e41"
      },
      "execution_count": null,
      "outputs": [
        {
          "output_type": "stream",
          "name": "stdout",
          "text": [
            "121(Base3) = 16(Base10) == True\n"
          ]
        }
      ]
    },
    {
      "cell_type": "markdown",
      "source": [
        "# Demonstrating Converting to Binary and Back.\n",
        "Binary is Base(2) and differs from the Demical System by having numbers only range from 0-1. Using python function such as bin() and int() we can convert to and from binary.\n"
      ],
      "metadata": {
        "id": "g9XPbrr8FYKW"
      }
    },
    {
      "cell_type": "code",
      "source": [
        "print(289,'=',bin(289),'\\n',989,'=',bin(989),'\\n',18967, '=',bin(18967))"
      ],
      "metadata": {
        "colab": {
          "base_uri": "https://localhost:8080/"
        },
        "id": "JCb0HtydFroJ",
        "outputId": "66a980ec-847c-402e-f8e9-256d03ed1df7"
      },
      "execution_count": null,
      "outputs": [
        {
          "output_type": "stream",
          "name": "stdout",
          "text": [
            "289 = 0b100100001 \n",
            " 989 = 0b1111011101 \n",
            " 18967 = 0b100101000010111\n"
          ]
        }
      ]
    },
    {
      "cell_type": "markdown",
      "source": [
        "**Now to Demonstrate Multiplication, Addition and Division with binary**"
      ],
      "metadata": {
        "id": "6SizcaqOGe5X"
      }
    },
    {
      "cell_type": "code",
      "source": [
        "x = 0b100100001\n",
        "y = 0b1111011101\n",
        "z = 0b100101000010111\n",
        "\n",
        "print('0b10010001 + 0b1111011101 =', x+y)\n",
        "print('0b1111011101 + 0b100101000010111 =', y+z)"
      ],
      "metadata": {
        "colab": {
          "base_uri": "https://localhost:8080/"
        },
        "id": "ae3Z9FfOKt98",
        "outputId": "8496fa16-628c-4db0-c838-1e17a21e6c86"
      },
      "execution_count": null,
      "outputs": [
        {
          "output_type": "stream",
          "name": "stdout",
          "text": [
            "0b10010001 + 0b1111011101 = 1278\n",
            "0b1111011101 + 0b100101000010111 = 19956\n"
          ]
        }
      ]
    },
    {
      "cell_type": "markdown",
      "source": [
        "Multiplication"
      ],
      "metadata": {
        "id": "4nUeG7tbIWeJ"
      }
    },
    {
      "cell_type": "code",
      "source": [
        "x = 0b100100001\n",
        "y = 0b1111011101\n",
        "z = 0b100101000010111\n",
        "\n",
        "print('0b10010001 * 0b1111011101 =', x*y)\n",
        "print('0b1111011101 * 0b100101000010111 =', y*z)"
      ],
      "metadata": {
        "colab": {
          "base_uri": "https://localhost:8080/"
        },
        "id": "pgS6s_mFLuMu",
        "outputId": "47c53825-3d45-4245-c379-26e4c48692f6"
      },
      "execution_count": null,
      "outputs": [
        {
          "output_type": "stream",
          "name": "stdout",
          "text": [
            "0b10010001 * 0b1111011101 = 285821\n",
            "0b1111011101 * 0b100101000010111 = 18758363\n"
          ]
        }
      ]
    },
    {
      "cell_type": "markdown",
      "source": [
        "Division"
      ],
      "metadata": {
        "id": "YL6PV2q3IrFD"
      }
    },
    {
      "cell_type": "code",
      "source": [
        "x = 0b100100001\n",
        "y = 0b1111011101\n",
        "z = 0b100101000010111\n",
        "\n",
        "print('0b10010001 / 0b1111011101 =', x/y)\n",
        "print('0b1111011101 / 0b100101000010111 =', y/z)"
      ],
      "metadata": {
        "colab": {
          "base_uri": "https://localhost:8080/"
        },
        "id": "-wXllxqvL1ZP",
        "outputId": "707d65ba-0513-4907-a1b5-c7ad88156188"
      },
      "execution_count": null,
      "outputs": [
        {
          "output_type": "stream",
          "name": "stdout",
          "text": [
            "0b10010001 / 0b1111011101 = 0.29221435793731043\n",
            "0b1111011101 / 0b100101000010111 = 0.052143196077397584\n"
          ]
        }
      ]
    },
    {
      "cell_type": "markdown",
      "source": [
        "# Floating Point Number\n",
        "\n",
        "**Demonstrating how floating point works**\n",
        "\n",
        "Book explains to use sys to get float information"
      ],
      "metadata": {
        "id": "pNRIhrPGOJfb"
      }
    },
    {
      "cell_type": "code",
      "source": [
        "import sys\n",
        "sys.float_info"
      ],
      "metadata": {
        "colab": {
          "base_uri": "https://localhost:8080/"
        },
        "id": "Z3RvGp9XORbJ",
        "outputId": "62c29c34-6ba4-4e80-fb96-aae2a038f5ef"
      },
      "execution_count": 2,
      "outputs": [
        {
          "output_type": "execute_result",
          "data": {
            "text/plain": [
              "sys.float_info(max=1.7976931348623157e+308, max_exp=1024, max_10_exp=308, min=2.2250738585072014e-308, min_exp=-1021, min_10_exp=-307, dig=15, mant_dig=53, epsilon=2.220446049250313e-16, radix=2, rounds=1)"
            ]
          },
          "metadata": {},
          "execution_count": 2
        }
      ]
    },
    {
      "cell_type": "code",
      "source": [
        "import numpy as np"
      ],
      "metadata": {
        "id": "0NQnPEgLQp_j"
      },
      "execution_count": 3,
      "outputs": []
    },
    {
      "cell_type": "markdown",
      "source": [
        "This is to demonstrate the gap at 1e^6. Then to verify that said gap is indeed less then half the gap at 1e^6."
      ],
      "metadata": {
        "id": "lXUFN6isF0VF"
      }
    },
    {
      "cell_type": "code",
      "source": [
        "print('Gap at 1e6 = ', np.spacing(1e6))"
      ],
      "metadata": {
        "colab": {
          "base_uri": "https://localhost:8080/"
        },
        "id": "b2UqgbQURn8d",
        "outputId": "67a6eeff-c8e0-43d8-f802-fc1bedfabd89"
      },
      "execution_count": 4,
      "outputs": [
        {
          "output_type": "stream",
          "name": "stdout",
          "text": [
            "Gap at 1e6 =  1.1641532182693481e-10\n"
          ]
        }
      ]
    },
    {
      "cell_type": "code",
      "source": [
        "print('+1e6 < 1e6/3 ==' ,1e6 == (1e6 + np.spacing(1e6)/3))"
      ],
      "metadata": {
        "colab": {
          "base_uri": "https://localhost:8080/"
        },
        "id": "XIbvP5PARu1N",
        "outputId": "396f3ce1-662f-4668-bd6e-6a23ade505e4"
      },
      "execution_count": 5,
      "outputs": [
        {
          "output_type": "stream",
          "name": "stdout",
          "text": [
            "+1e6 < 1e6/3 == True\n"
          ]
        }
      ]
    },
    {
      "cell_type": "markdown",
      "source": [
        "If a number has an exponent of 2047 then it will return a value of infinity due to it being an overflow error. And thus the same for the opposite numbers those result in 0 and are characterized as underflow."
      ],
      "metadata": {
        "id": "TqRkCiTNG75w"
      }
    },
    {
      "cell_type": "code",
      "source": [
        "largest = (2**(2046-1023))*((1 + sum(0.5**np.arange(1, 53))))\n",
        "largest"
      ],
      "metadata": {
        "colab": {
          "base_uri": "https://localhost:8080/"
        },
        "id": "1qx0gTU7R62A",
        "outputId": "12d12421-1ccf-4f00-89d2-90d78e0ac960"
      },
      "execution_count": 6,
      "outputs": [
        {
          "output_type": "execute_result",
          "data": {
            "text/plain": [
              "1.7976931348623157e+308"
            ]
          },
          "metadata": {},
          "execution_count": 6
        }
      ]
    },
    {
      "cell_type": "code",
      "source": [
        "sys.float_info.max"
      ],
      "metadata": {
        "colab": {
          "base_uri": "https://localhost:8080/"
        },
        "id": "1MtIetmmR78D",
        "outputId": "c0382a93-b2f1-4b80-fdac-cd94296d148a"
      },
      "execution_count": 7,
      "outputs": [
        {
          "output_type": "execute_result",
          "data": {
            "text/plain": [
              "1.7976931348623157e+308"
            ]
          },
          "metadata": {},
          "execution_count": 7
        }
      ]
    },
    {
      "cell_type": "code",
      "source": [
        "smallest = (2**(1-1023))*(1+0)\n",
        "smallest"
      ],
      "metadata": {
        "colab": {
          "base_uri": "https://localhost:8080/"
        },
        "id": "mgXXw7TGSA4N",
        "outputId": "770c14d3-530f-4c74-fdc9-bd11bd6317d4"
      },
      "execution_count": 8,
      "outputs": [
        {
          "output_type": "execute_result",
          "data": {
            "text/plain": [
              "2.2250738585072014e-308"
            ]
          },
          "metadata": {},
          "execution_count": 8
        }
      ]
    },
    {
      "cell_type": "markdown",
      "source": [
        "Overflow and Underflow example"
      ],
      "metadata": {
        "id": "yF0SdMteH9qd"
      }
    },
    {
      "cell_type": "code",
      "source": [
        "print('Overflow Example ==', sys.float_info.max + sys.float_info.max)\n"
      ],
      "metadata": {
        "colab": {
          "base_uri": "https://localhost:8080/"
        },
        "id": "WoFK2b2mHjJr",
        "outputId": "2f16ae73-deb8-4f57-d150-483b22beb057"
      },
      "execution_count": 11,
      "outputs": [
        {
          "output_type": "stream",
          "name": "stdout",
          "text": [
            "Overflow Example == inf\n"
          ]
        }
      ]
    },
    {
      "cell_type": "code",
      "source": [
        "print('Underflow Example ==', 2 ** (-1075))\n"
      ],
      "metadata": {
        "colab": {
          "base_uri": "https://localhost:8080/"
        },
        "id": "rn7iOyKDICpl",
        "outputId": "cb584bd4-c0ed-48b5-bb7c-c9e7e4d776cf"
      },
      "execution_count": 12,
      "outputs": [
        {
          "output_type": "stream",
          "name": "stdout",
          "text": [
            "Underflow Example == 0.0\n"
          ]
        }
      ]
    },
    {
      "cell_type": "markdown",
      "source": [
        "# Roundoff Error Section\n",
        "**Roundoff Error is a calculation that establishes the difference between a experimental/computational value compared to the true value.**"
      ],
      "metadata": {
        "id": "OKsbngViIIRg"
      }
    },
    {
      "cell_type": "code",
      "source": [
        "print('Roundoff Error Example, 10.98 - 7.657 == 3.323')\n",
        "10.98 - 7.657 == 3.323"
      ],
      "metadata": {
        "colab": {
          "base_uri": "https://localhost:8080/"
        },
        "id": "nFXRhpQJIhQb",
        "outputId": "24a11be4-16c7-44cc-af3e-e08d52a33242"
      },
      "execution_count": 16,
      "outputs": [
        {
          "output_type": "stream",
          "name": "stdout",
          "text": [
            "Roundoff Error Example, 10.98 - 7.657 == 3.323\n"
          ]
        },
        {
          "output_type": "execute_result",
          "data": {
            "text/plain": [
              "False"
            ]
          },
          "metadata": {},
          "execution_count": 16
        }
      ]
    },
    {
      "cell_type": "code",
      "source": [
        "print('True Value, 10.98 - 7.657')\n",
        "10.98 - 7.657"
      ],
      "metadata": {
        "colab": {
          "base_uri": "https://localhost:8080/"
        },
        "id": "lQ_Pi9T4JmLI",
        "outputId": "013840e0-959e-4f45-ba89-4cd73f41a5e0"
      },
      "execution_count": 17,
      "outputs": [
        {
          "output_type": "stream",
          "name": "stdout",
          "text": [
            "True Value, 10.98 - 7.657\n"
          ]
        },
        {
          "output_type": "execute_result",
          "data": {
            "text/plain": [
              "3.3230000000000004"
            ]
          },
          "metadata": {},
          "execution_count": 17
        }
      ]
    },
    {
      "cell_type": "markdown",
      "source": [
        "Demonstrated above is an example of roundoff error. Where we showed that rounding in the first equation is not accurate and the code solves the same question giving us the true answer."
      ],
      "metadata": {
        "id": "CF1UQYgMKAqT"
      }
    },
    {
      "cell_type": "code",
      "source": [
        "print('Using python to round and checking the results')\n",
        "print('round(10.98 - 7.657, 6)  == round(3.323 , 6)')\n",
        "round(10.98 - 7.657, 6)  == round(3.323 , 6)"
      ],
      "metadata": {
        "colab": {
          "base_uri": "https://localhost:8080/"
        },
        "id": "Ka4EUErEKP1k",
        "outputId": "a46ea0d4-2cc1-42b0-9737-210ada09cd4c"
      },
      "execution_count": 19,
      "outputs": [
        {
          "output_type": "stream",
          "name": "stdout",
          "text": [
            "Using python to round and checking the results\n",
            "round(10.98 - 7.657, 6)  == round(3.323 , 6)\n"
          ]
        },
        {
          "output_type": "execute_result",
          "data": {
            "text/plain": [
              "True"
            ]
          },
          "metadata": {},
          "execution_count": 19
        }
      ]
    },
    {
      "cell_type": "markdown",
      "source": [
        "Roundoff error also has an effect when doing a sequence of calculations this is known as accumulated roundoff error."
      ],
      "metadata": {
        "id": "4QGnUwLxLCaH"
      }
    },
    {
      "cell_type": "code",
      "source": [
        "print('One calculation, 10+1/7-1/7')\n",
        "10+1/7-1/7"
      ],
      "metadata": {
        "colab": {
          "base_uri": "https://localhost:8080/"
        },
        "id": "MhK0N3zYN9AE",
        "outputId": "46c727cc-dbdf-4f6a-980d-517de5a7ba24"
      },
      "execution_count": 65,
      "outputs": [
        {
          "output_type": "stream",
          "name": "stdout",
          "text": [
            "One calculation, 10+1/7-1/7\n"
          ]
        },
        {
          "output_type": "execute_result",
          "data": {
            "text/plain": [
              "10.0"
            ]
          },
          "metadata": {},
          "execution_count": 65
        }
      ]
    },
    {
      "cell_type": "markdown",
      "source": [
        "We can demonstrate this by running a sequence of calculations using python as such."
      ],
      "metadata": {
        "id": "_AANamoRN-6H"
      }
    },
    {
      "cell_type": "code",
      "source": [
        "def add_and_subtract(iterations):\n",
        "    result = 10\n",
        "\n",
        "    for i in range(iterations):\n",
        "        result += (1/7)\n",
        "\n",
        "    for i in range(iterations):\n",
        "        result -= (1/7)\n",
        "    return result"
      ],
      "metadata": {
        "id": "N1aXerKxOFdm"
      },
      "execution_count": 66,
      "outputs": []
    },
    {
      "cell_type": "code",
      "source": [
        "print('Run the same calculation 1000 times and results in')\n",
        "add_and_subtract(1000)"
      ],
      "metadata": {
        "colab": {
          "base_uri": "https://localhost:8080/"
        },
        "id": "Catnhr2ZOltC",
        "outputId": "0186ef58-2c76-43d3-c968-5da8f145238f"
      },
      "execution_count": 78,
      "outputs": [
        {
          "output_type": "stream",
          "name": "stdout",
          "text": [
            "Run the same calculation 1000 times and results in\n"
          ]
        },
        {
          "output_type": "execute_result",
          "data": {
            "text/plain": [
              "9.999999999999996"
            ]
          },
          "metadata": {},
          "execution_count": 78
        }
      ]
    },
    {
      "cell_type": "code",
      "source": [
        "print('Run the same calculation 25000 times and results in')\n",
        "add_and_subtract(25000)"
      ],
      "metadata": {
        "colab": {
          "base_uri": "https://localhost:8080/"
        },
        "id": "13AhwZqdQVL5",
        "outputId": "c24d2b4d-3ade-4091-8a0d-25f6dc0ea63e"
      },
      "execution_count": 76,
      "outputs": [
        {
          "output_type": "stream",
          "name": "stdout",
          "text": [
            "Run the same calculation 25000 times and results in\n"
          ]
        },
        {
          "output_type": "execute_result",
          "data": {
            "text/plain": [
              "10.000000000000107"
            ]
          },
          "metadata": {},
          "execution_count": 76
        }
      ]
    },
    {
      "cell_type": "code",
      "source": [
        "print('Run the same calculation 100000 times and results in')\n",
        "add_and_subtract(150000)"
      ],
      "metadata": {
        "colab": {
          "base_uri": "https://localhost:8080/"
        },
        "id": "ijeeb7eZQZ2c",
        "outputId": "f298154b-3509-43c5-b9f4-ab94451cf253"
      },
      "execution_count": 77,
      "outputs": [
        {
          "output_type": "stream",
          "name": "stdout",
          "text": [
            "Run the same calculation 100000 times and results in\n"
          ]
        },
        {
          "output_type": "execute_result",
          "data": {
            "text/plain": [
              "9.999999999999655"
            ]
          },
          "metadata": {},
          "execution_count": 77
        }
      ]
    },
    {
      "cell_type": "markdown",
      "source": [
        "These all demonstrate how accumulation works and how just a large number of iterations can result in error."
      ],
      "metadata": {
        "id": "76SFLgC8Qpbw"
      }
    }
  ]
}