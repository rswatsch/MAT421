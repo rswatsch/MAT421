{
  "nbformat": 4,
  "nbformat_minor": 0,
  "metadata": {
    "colab": {
      "provenance": [],
      "authorship_tag": "ABX9TyO4aMKsn5kzaJszXGXQbR3X",
      "include_colab_link": true
    },
    "kernelspec": {
      "name": "python3",
      "display_name": "Python 3"
    },
    "language_info": {
      "name": "python"
    }
  },
  "cells": [
    {
      "cell_type": "markdown",
      "metadata": {
        "id": "view-in-github",
        "colab_type": "text"
      },
      "source": [
        "<a href=\"https://colab.research.google.com/github/rswatsch/MAT421_RyanS/blob/main/ModuleC.ipynb\" target=\"_parent\"><img src=\"https://colab.research.google.com/assets/colab-badge.svg\" alt=\"Open In Colab\"/></a>"
      ]
    },
    {
      "cell_type": "markdown",
      "source": [
        "# Root Finding Homework Assignment\n",
        "**In this module we are developing an understanding for different root finding methods and will explore how they work and when to use them**\n",
        "\n"
      ],
      "metadata": {
        "id": "6gOUiUl_G1Ui"
      }
    },
    {
      "cell_type": "markdown",
      "source": [
        "As we have learned in algebra many years ago the quadratic formula is a method of calculating roots in equations. Essentially all the methods I will demonstrate today use approximations to calculate roots."
      ],
      "metadata": {
        "id": "eoNqm3w0HGBV"
      }
    },
    {
      "cell_type": "markdown",
      "source": [
        "# *Section 19.1*"
      ],
      "metadata": {
        "id": "Qk31wm93KQat"
      }
    },
    {
      "cell_type": "markdown",
      "source": [
        "Here we are demonstrating how fsolve works where we have an equation sin(x)-x and are establishing whether or not -4 is a root or close enough."
      ],
      "metadata": {
        "id": "LwiqTww7Kqag"
      }
    },
    {
      "cell_type": "code",
      "source": [
        "import numpy as np\n",
        "from scipy import optimize\n",
        "import matplotlib.pyplot as plt\n",
        "\n",
        "f = lambda x: np.sin(x) - x\n",
        "r = optimize.fsolve(f, -4)\n",
        "print(\"r =\", r)\n",
        "\n",
        "# Verify the solution is a root\n",
        "result = f(r)\n",
        "print(\"result=\", result)"
      ],
      "metadata": {
        "colab": {
          "base_uri": "https://localhost:8080/"
        },
        "id": "6iPa2yd8HG6i",
        "outputId": "5d2acbb4-c261-4dd0-fae4-78657d2c1f81"
      },
      "execution_count": 23,
      "outputs": [
        {
          "output_type": "stream",
          "name": "stdout",
          "text": [
            "r = [-1.96910461e-08]\n",
            "result= [0.]\n"
          ]
        }
      ]
    },
    {
      "cell_type": "markdown",
      "source": [
        "The next example we are demonstrating that certain equation do not have roots and thus when checked will not display a 0 or close to it."
      ],
      "metadata": {
        "id": "xULNve55Kqt1"
      }
    },
    {
      "cell_type": "code",
      "source": [
        "f = lambda x: 1/x\n",
        "\n",
        "r, infodict, ier, mesg = optimize.fsolve(f, -4, full_output=True)\n",
        "print(\"r =\", r)\n",
        "\n",
        "result = f(r)\n",
        "print(\"result=\", result)\n",
        "\n",
        "print(mesg)"
      ],
      "metadata": {
        "colab": {
          "base_uri": "https://localhost:8080/"
        },
        "id": "fKPqymswKWIG",
        "outputId": "4a520a8a-6857-45b4-e70e-088a609098e4"
      },
      "execution_count": 3,
      "outputs": [
        {
          "output_type": "stream",
          "name": "stdout",
          "text": [
            "r = [-7.04094719e+83]\n",
            "result= [-1.42026346e-84]\n",
            "The number of calls to function has reached maxfev = 400.\n"
          ]
        }
      ]
    },
    {
      "cell_type": "markdown",
      "source": [
        "# *Section 19.2*"
      ],
      "metadata": {
        "id": "8_e5JI0fKsGo"
      }
    },
    {
      "cell_type": "markdown",
      "source": [
        "This section discusses tolerance which is another way of representing error but more so acceptable error. Expected error where we have an acceptable range of values that we would count as accurate enough."
      ],
      "metadata": {
        "id": "TIwX_9LRTyg5"
      }
    },
    {
      "cell_type": "code",
      "source": [
        "f = lambda x: x*x+.01\n",
        "\n",
        "r, infodict, ier, mesg = optimize.fsolve(f, 15,xtol=.1, full_output=True)\n",
        "print(\"r =\", r)\n",
        "result = f(r)\n",
        "print(\"distance from zero=\", result)\n",
        "\n",
        "print(mesg)"
      ],
      "metadata": {
        "colab": {
          "base_uri": "https://localhost:8080/"
        },
        "id": "mtzK3i7VKy-t",
        "outputId": "3837a866-ca55-4631-c723-42b1ad81f081"
      },
      "execution_count": 7,
      "outputs": [
        {
          "output_type": "stream",
          "name": "stdout",
          "text": [
            "r = [0.00174878]\n",
            "distance from zero= [0.01000306]\n",
            "The iteration is not making good progress, as measured by the \n",
            "  improvement from the last ten iterations.\n"
          ]
        }
      ]
    },
    {
      "cell_type": "markdown",
      "source": [
        "Above demonstrates the previous example from 19.1, but it instead doesnt have a root. The next example is similar to the one before but instead I used a much smaller addition value."
      ],
      "metadata": {
        "id": "bFbFkRbcUQ-O"
      }
    },
    {
      "cell_type": "code",
      "source": [
        "f = lambda x: x*x+2e-10/10\n",
        "\n",
        "\n",
        "r, infodict, ier, mesg = optimize.fsolve(f, 15, full_output=True)\n",
        "print(\"r =\", r)\n",
        "\n",
        "result = f(r)\n",
        "print(\"distance from zero=\", result)\n",
        "\n",
        "print(mesg)"
      ],
      "metadata": {
        "colab": {
          "base_uri": "https://localhost:8080/"
        },
        "id": "K_iYC-IBUZv8",
        "outputId": "291ba089-d7e8-4067-8e4e-6cee48c2f88c"
      },
      "execution_count": 8,
      "outputs": [
        {
          "output_type": "stream",
          "name": "stdout",
          "text": [
            "r = [-5.82292053e-07]\n",
            "distance from zero= [2.0339064e-11]\n",
            "The iteration is not making good progress, as measured by the \n",
            "  improvement from the last ten iterations.\n"
          ]
        }
      ]
    },
    {
      "cell_type": "markdown",
      "source": [
        "# *Section 19.3*"
      ],
      "metadata": {
        "id": "GCw42LY9K6Nk"
      }
    },
    {
      "cell_type": "markdown",
      "source": [
        "The next example will demonstrate how bisection works"
      ],
      "metadata": {
        "id": "7GbBFbRES3ko"
      }
    },
    {
      "cell_type": "code",
      "source": [
        "f = lambda x: np.cos(x) - .5\n",
        "\n",
        "xx=np.linspace(0,10,200)\n",
        "\n",
        "plt.plot(xx,f(xx))\n",
        "plt.plot(xx,[0]*len(xx))\n"
      ],
      "metadata": {
        "colab": {
          "base_uri": "https://localhost:8080/",
          "height": 447
        },
        "id": "90irT4qPVbU8",
        "outputId": "ccdc9e0c-ceed-44ff-b648-73da634efb12"
      },
      "execution_count": 30,
      "outputs": [
        {
          "output_type": "execute_result",
          "data": {
            "text/plain": [
              "[<matplotlib.lines.Line2D at 0x7ffaed78a470>]"
            ]
          },
          "metadata": {},
          "execution_count": 30
        },
        {
          "output_type": "display_data",
          "data": {
            "text/plain": [
              "<Figure size 640x480 with 1 Axes>"
            ],
            "image/png": "[encoded data removed]"
          },
          "metadata": {}
        }
      ]
    },
    {
      "cell_type": "markdown",
      "source": [
        "Above is a cos(x) graph which demonstrates oscillations that pass through our line every cycle. Using the intermediate value theorem we can find the roots."
      ],
      "metadata": {
        "id": "9msoFuYVWWAo"
      }
    },
    {
      "cell_type": "code",
      "source": [
        "import numpy as np\n",
        "\n",
        "def my_bisection(f, a, b, tol):\n",
        "    # approximates a root, R, of f bounded\n",
        "    # by a and b to within tolerance\n",
        "    # | f(m) | < tol with m the midpoint\n",
        "    # between a and b Recursive implementation\n",
        "\n",
        "    # check if a and b bound a root\n",
        "    if np.sign(f(a)) == np.sign(f(b)):\n",
        "        raise Exception(\n",
        "         \"The scalars a and b do not bound a root\")\n",
        "\n",
        "    # get midpoint\n",
        "    m = (a + b)/2\n",
        "\n",
        "    if np.abs(f(m)) < tol:\n",
        "        # stopping condition, report m as root\n",
        "        return m\n",
        "    elif np.sign(f(a)) == np.sign(f(m)):\n",
        "        # case where m is an improvement on a.\n",
        "        # Make recursive call with a = m\n",
        "        return my_bisection(f, m, b, tol)\n",
        "    elif np.sign(f(b)) == np.sign(f(m)):\n",
        "        # case where m is an improvement on b.\n",
        "        # Make recursive call with b = m\n",
        "        return my_bisection(f, a, m, tol)"
      ],
      "metadata": {
        "id": "-ixrVJj6K7lV"
      },
      "execution_count": 31,
      "outputs": []
    },
    {
      "cell_type": "markdown",
      "source": [
        "The following will demonstrate a bisection of equation f which in this case is cos(x)-.5"
      ],
      "metadata": {
        "id": "IaS_sykuZBVP"
      }
    },
    {
      "cell_type": "code",
      "source": [
        "f = lambda x: np.cos(x) - .5\n",
        "\n",
        "r1 = my_bisection(f, 0, 4, 0.1)\n",
        "print(\"r1 =\", r1)\n",
        "r01 = my_bisection(f, 0, 4, 0.01)\n",
        "print(\"r01 =\", r01)\n",
        "\n",
        "print(\"f(r1) =\", f(r1))\n",
        "print(\"f(r01) =\", f(r01))"
      ],
      "metadata": {
        "colab": {
          "base_uri": "https://localhost:8080/"
        },
        "id": "8onBo2eeK-2S",
        "outputId": "f60cd10d-69a2-4196-c232-60a1d46ae5d6"
      },
      "execution_count": 47,
      "outputs": [
        {
          "output_type": "stream",
          "name": "stdout",
          "text": [
            "r1 = 1.0\n",
            "r01 = 1.046875\n",
            "f(r1) = 0.040302305868139765\n",
            "f(r01) = 0.000279311515612668\n"
          ]
        }
      ]
    },
    {
      "cell_type": "code",
      "source": [
        "f = lambda x: np.cos(x) - .5\n",
        "\n",
        "xx=np.linspace(0,20,200)\n",
        "plt.plot(xx,f(xx))\n",
        "plt.plot(xx,[0]*len(xx))\n",
        "plt.plot([2,8],[f(2),f(8)],'ro')\n",
        "\n",
        "plt.show()\n",
        "\n",
        "r1 = my_bisection(f, 0, 4, 0.01)\n",
        "print(\"r1 =\", r1)\n",
        "print(\"f(r1) =\", f(r1))"
      ],
      "metadata": {
        "colab": {
          "base_uri": "https://localhost:8080/",
          "height": 465
        },
        "id": "7F9pNmHIXc94",
        "outputId": "4f789ef4-2d61-4ae6-c6f6-f12ce670df3c"
      },
      "execution_count": 44,
      "outputs": [
        {
          "output_type": "display_data",
          "data": {
            "text/plain": [
              "<Figure size 640x480 with 1 Axes>"
            ],
            "image/png": "[encoded data removed]"
          },
          "metadata": {}
        },
        {
          "output_type": "stream",
          "name": "stdout",
          "text": [
            "r1 = 1.046875\n",
            "f(r1) = 0.000279311515612668\n"
          ]
        }
      ]
    },
    {
      "cell_type": "markdown",
      "source": [
        "The next part will demonstrate what occurs when you use a improper variable set"
      ],
      "metadata": {
        "id": "ShnrXLvnYvF7"
      }
    },
    {
      "cell_type": "code",
      "source": [
        "my_bisection(f, 3, 4, 0.01)"
      ],
      "metadata": {
        "colab": {
          "base_uri": "https://localhost:8080/",
          "height": 297
        },
        "id": "r9rsctoTYqlI",
        "outputId": "d46c2493-47f1-42ae-8df0-2f4ac8c8093c"
      },
      "execution_count": 46,
      "outputs": [
        {
          "output_type": "error",
          "ename": "Exception",
          "evalue": "The scalars a and b do not bound a root",
          "traceback": [
            "\u001b[0;31m---------------------------------------------------------------------------\u001b[0m",
            "\u001b[0;31mException\u001b[0m                                 Traceback (most recent call last)",
            "\u001b[0;32m<ipython-input-46-794790a85bad>\u001b[0m in \u001b[0;36m<cell line: 1>\u001b[0;34m()\u001b[0m\n\u001b[0;32m----> 1\u001b[0;31m \u001b[0mmy_bisection\u001b[0m\u001b[0;34m(\u001b[0m\u001b[0mf\u001b[0m\u001b[0;34m,\u001b[0m \u001b[0;36m3\u001b[0m\u001b[0;34m,\u001b[0m \u001b[0;36m4\u001b[0m\u001b[0;34m,\u001b[0m \u001b[0;36m0.01\u001b[0m\u001b[0;34m)\u001b[0m\u001b[0;34m\u001b[0m\u001b[0;34m\u001b[0m\u001b[0m\n\u001b[0m",
            "\u001b[0;32m<ipython-input-31-36f06123e87c>\u001b[0m in \u001b[0;36mmy_bisection\u001b[0;34m(f, a, b, tol)\u001b[0m\n\u001b[1;32m      9\u001b[0m     \u001b[0;31m# check if a and b bound a root\u001b[0m\u001b[0;34m\u001b[0m\u001b[0;34m\u001b[0m\u001b[0m\n\u001b[1;32m     10\u001b[0m     \u001b[0;32mif\u001b[0m \u001b[0mnp\u001b[0m\u001b[0;34m.\u001b[0m\u001b[0msign\u001b[0m\u001b[0;34m(\u001b[0m\u001b[0mf\u001b[0m\u001b[0;34m(\u001b[0m\u001b[0ma\u001b[0m\u001b[0;34m)\u001b[0m\u001b[0;34m)\u001b[0m \u001b[0;34m==\u001b[0m \u001b[0mnp\u001b[0m\u001b[0;34m.\u001b[0m\u001b[0msign\u001b[0m\u001b[0;34m(\u001b[0m\u001b[0mf\u001b[0m\u001b[0;34m(\u001b[0m\u001b[0mb\u001b[0m\u001b[0;34m)\u001b[0m\u001b[0;34m)\u001b[0m\u001b[0;34m:\u001b[0m\u001b[0;34m\u001b[0m\u001b[0;34m\u001b[0m\u001b[0m\n\u001b[0;32m---> 11\u001b[0;31m         raise Exception(\n\u001b[0m\u001b[1;32m     12\u001b[0m          \"The scalars a and b do not bound a root\")\n\u001b[1;32m     13\u001b[0m \u001b[0;34m\u001b[0m\u001b[0m\n",
            "\u001b[0;31mException\u001b[0m: The scalars a and b do not bound a root"
          ]
        }
      ]
    },
    {
      "cell_type": "markdown",
      "source": [
        "# Section 19.4"
      ],
      "metadata": {
        "id": "fAGaGIQKLEQB"
      }
    },
    {
      "cell_type": "markdown",
      "source": [
        "This section will utilize the newton raphson method"
      ],
      "metadata": {
        "id": "RMMdcUVNZOPO"
      }
    },
    {
      "cell_type": "code",
      "source": [
        "import numpy as np\n",
        "\n",
        "f = lambda x: x**2 - 2\n",
        "f_prime = lambda x: 2*x\n",
        "newton_raphson = 3.25 - (f(1.4))/(f_prime((3.25)))\n",
        "\n",
        "print(\"newton_raphson =\", newton_raphson)\n",
        "print(\"sqrt(2) =\", np.sqrt(2))"
      ],
      "metadata": {
        "colab": {
          "base_uri": "https://localhost:8080/"
        },
        "id": "8-u8qBf1LOji",
        "outputId": "2aed9060-5317-4446-8f5a-4b4ed36fbf2b"
      },
      "execution_count": 55,
      "outputs": [
        {
          "output_type": "stream",
          "name": "stdout",
          "text": [
            "newton_raphson = 3.2561538461538464\n",
            "sqrt(2) = 1.4142135623730951\n"
          ]
        }
      ]
    },
    {
      "cell_type": "markdown",
      "source": [
        "Using the previous equation with a tolerance of zero we are estimating the output utilizing the newton-raphson method."
      ],
      "metadata": {
        "id": "piCM3JAgZjTl"
      }
    },
    {
      "cell_type": "code",
      "source": [
        "def my_newton(f, df, x0, tol):\n",
        "    # output is an estimation of the root of f\n",
        "    # using the Newton Raphson method\n",
        "    # recursive implementation\n",
        "    if abs(f(x0)) < tol:\n",
        "        return x0\n",
        "    else:\n",
        "        return my_newton(f, df, x0 - f(x0)/df(x0), tol)"
      ],
      "metadata": {
        "id": "f1TNLczmLPOL"
      },
      "execution_count": 56,
      "outputs": []
    },
    {
      "cell_type": "markdown",
      "source": [
        "Now we are using the newton-raphson method to estimate root's such as the example below."
      ],
      "metadata": {
        "id": "jKosPzgoaFEV"
      }
    },
    {
      "cell_type": "code",
      "source": [
        "estimate = my_newton(f, f_prime, 1.5, 1e-6)\n",
        "print(\"estimate =\", estimate)\n",
        "print(\"sqrt(2) =\", np.sqrt(5))"
      ],
      "metadata": {
        "colab": {
          "base_uri": "https://localhost:8080/"
        },
        "id": "m0T5evYwLRSy",
        "outputId": "25385bf4-b092-49bc-8b0f-11d2c0b20c71"
      },
      "execution_count": 58,
      "outputs": [
        {
          "output_type": "stream",
          "name": "stdout",
          "text": [
            "estimate = 1.4142135623746899\n",
            "sqrt(2) = 2.23606797749979\n"
          ]
        }
      ]
    },
    {
      "cell_type": "markdown",
      "source": [
        "Now demonstrating a single step approximation"
      ],
      "metadata": {
        "id": "E_HFaTt0aalN"
      }
    },
    {
      "cell_type": "code",
      "source": [
        "x0 = 0.1\n",
        "x1 = x0-(x0**3+3*x0**2-2*x0-5)/(3*x0**2+6*x0-2)\n",
        "print(\"x1 =\", x1)"
      ],
      "metadata": {
        "colab": {
          "base_uri": "https://localhost:8080/"
        },
        "id": "sfg9vjyqLUeb",
        "outputId": "1a2dc401-3d7c-442c-c564-f10a3c8ae965"
      },
      "execution_count": 60,
      "outputs": [
        {
          "output_type": "stream",
          "name": "stdout",
          "text": [
            "x1 = -3.672992700729927\n"
          ]
        }
      ]
    },
    {
      "cell_type": "markdown",
      "source": [
        "Another example but this time we are starting with x(0) = 0"
      ],
      "metadata": {
        "id": "CjGwAppratsc"
      }
    },
    {
      "cell_type": "code",
      "source": [
        "x0 = 0\n",
        "x1 = x0-(x0**3+100*x0**2-x0+100)/(3*x0**2+x0-2)\n",
        "print(\"x1 =\", x1)"
      ],
      "metadata": {
        "colab": {
          "base_uri": "https://localhost:8080/"
        },
        "id": "2wPvSo5Dan04",
        "outputId": "729b05aa-b600-4c35-abcb-a13f98573158"
      },
      "execution_count": 66,
      "outputs": [
        {
          "output_type": "stream",
          "name": "stdout",
          "text": [
            "x1 = 50.0\n"
          ]
        }
      ]
    },
    {
      "cell_type": "markdown",
      "source": [
        "# Section 19.5"
      ],
      "metadata": {
        "id": "Xy3c6OYrLU7-"
      }
    },
    {
      "cell_type": "code",
      "source": [
        "from scipy.optimize import fsolve"
      ],
      "metadata": {
        "id": "Ao1OUQrMLWOx"
      },
      "execution_count": 67,
      "outputs": []
    },
    {
      "cell_type": "markdown",
      "source": [
        "Now to demonstrate finding roots of certain function using the built in code python has."
      ],
      "metadata": {
        "id": "I-rqp6DSbIM8"
      }
    },
    {
      "cell_type": "code",
      "source": [
        "f = lambda x: 4*x**3-200*x**2-x+50\n",
        "\n",
        "fsolve(f, [2, 80])"
      ],
      "metadata": {
        "colab": {
          "base_uri": "https://localhost:8080/"
        },
        "id": "bM6B2m5GLb_W",
        "outputId": "3d2d393a-4f87-4b3b-aa26-dacde1c5d22a"
      },
      "execution_count": 71,
      "outputs": [
        {
          "output_type": "execute_result",
          "data": {
            "text/plain": [
              "array([ 0.5, 50. ])"
            ]
          },
          "metadata": {},
          "execution_count": 71
        }
      ]
    }
  ]
}